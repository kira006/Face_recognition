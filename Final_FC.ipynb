{
 "cells": [
  {
   "cell_type": "code",
   "execution_count": 1,
   "id": "11d09d9d",
   "metadata": {},
   "outputs": [],
   "source": [
    "import cv2\n",
    "import numpy as np\n",
    "from os import listdir\n",
    "from os.path import isfile, join\n",
    "import os\n",
    "import pywhatkit as pwt"
   ]
  },
  {
   "cell_type": "code",
   "execution_count": 2,
   "id": "46afe819",
   "metadata": {},
   "outputs": [],
   "source": [
    "face_classifier = cv2.CascadeClassifier('haarcascade_frontalface_default.xml')"
   ]
  },
  {
   "cell_type": "code",
   "execution_count": 3,
   "id": "82986380",
   "metadata": {},
   "outputs": [
    {
     "name": "stderr",
     "output_type": "stream",
     "text": [
      "<>:4: SyntaxWarning: \"is\" with a literal. Did you mean \"==\"?\n",
      "<>:4: SyntaxWarning: \"is\" with a literal. Did you mean \"==\"?\n",
      "<ipython-input-3-6de74c32a415>:4: SyntaxWarning: \"is\" with a literal. Did you mean \"==\"?\n",
      "  if faces is ():\n"
     ]
    },
    {
     "name": "stdout",
     "output_type": "stream",
     "text": [
      "Collecting sample complete\n"
     ]
    }
   ],
   "source": [
    "def face_extractor(img):\n",
    "    gray = cv2.cvtColor(img, cv2.COLOR_BGR2GRAY)\n",
    "    faces = face_classifier.detectMultiScale(gray, 1.3, 5)\n",
    "    if faces is ():\n",
    "        return None\n",
    "    for (x, y, w, h) in faces:\n",
    "        cropped_face = img[y:y+h, x:x+w]\n",
    "    return cropped_face\n",
    "\n",
    "cap = cv2.VideoCapture(0)\n",
    "count = 0\n",
    "\n",
    "while True:\n",
    "    ret, frame = cap.read()\n",
    "    if face_extractor(frame) is not None:\n",
    "        count+=1\n",
    "        face = cv2.resize(face_extractor(frame), (200, 200))\n",
    "        face = cv2.cvtColor(face, cv2.COLOR_BGR2GRAY)\n",
    "        \n",
    "        file_name_path = 'E:/SummerTraining2021/computer vision/faces/me/' + str(count)+ '.jpg'\n",
    "        cv2.imwrite(file_name_path, face)\n",
    "        \n",
    "        cv2.putText(face, str(count), (50, 50), cv2.FONT_HERSHEY_COMPLEX, 1, (0, 255, 0), 2)\n",
    "        cv2.imshow('Face cropper', face)\n",
    "    else:\n",
    "        #print(\"Face not found\")\n",
    "        pass\n",
    "    if cv2.waitKey(1) == 13 or count == 100:\n",
    "        break\n",
    "cap.release()\n",
    "cv2.destroyAllWindows()\n",
    "print(\"Collecting sample complete\")"
   ]
  },
  {
   "cell_type": "code",
   "execution_count": 4,
   "id": "3943f6a6",
   "metadata": {},
   "outputs": [
    {
     "name": "stdout",
     "output_type": "stream",
     "text": [
      "Model1 Trained\n",
      "Model2 Trained\n"
     ]
    }
   ],
   "source": [
    "data_path1 = 'E:/SummerTraining2021/computer vision/faces/me/'\n",
    "onlyFiles1 = [f for f in listdir(data_path1) if isfile(join(data_path1, f))]\n",
    "\n",
    "data_path2 = 'E:/SummerTraining2021/computer vision/faces/other/'\n",
    "onlyFiles2 = [f for f in listdir(data_path2) if isfile(join(data_path2, f))]\n",
    "\n",
    "Training_data2, Labels2 = [], []\n",
    "Training_data1, Labels1 = [], []\n",
    "\n",
    "for i, files1 in enumerate(onlyFiles1):\n",
    "    image_path1 = data_path1 + onlyFiles1[i]\n",
    "    images1 = cv2.imread(image_path1, cv2.IMREAD_GRAYSCALE)\n",
    "    Training_data1.append(np.asarray(images1, dtype=np.uint8))\n",
    "    Labels1.append(i)\n",
    "\n",
    "\n",
    "for i, files2 in enumerate(onlyFiles2):\n",
    "    image_path2 = data_path2 + onlyFiles2[i]\n",
    "    images2 = cv2.imread(image_path2, cv2.IMREAD_GRAYSCALE)\n",
    "    Training_data2.append(np.asarray(images2, dtype=np.uint8))\n",
    "    Labels2.append(i)\n",
    "\n",
    "Labels2 = np.asarray(Labels2, dtype=np.int32)\n",
    "Labels1 = np.asarray(Labels1, dtype=np.int32)\n",
    "\n",
    "model1 = cv2.face_LBPHFaceRecognizer.create()\n",
    "model1.train(np.asarray(Training_data1), np.asarray(Labels1))\n",
    "print(\"Model1 Trained\")\n",
    "\n",
    "model2 = cv2.face_LBPHFaceRecognizer.create()\n",
    "model2.train(np.asarray(Training_data2), np.asarray(Labels2))\n",
    "print(\"Model2 Trained\")"
   ]
  },
  {
   "cell_type": "code",
   "execution_count": 5,
   "id": "fb5bca78",
   "metadata": {},
   "outputs": [],
   "source": [
    "import subprocess\n",
    "import re\n",
    "import smtplib\n",
    "from email.message import EmailMessage"
   ]
  },
  {
   "cell_type": "code",
   "execution_count": 6,
   "id": "3cb4d6b2",
   "metadata": {},
   "outputs": [],
   "source": [
    "def launch():\n",
    "    subprocess.getoutput(\"aws ec2 run-instances --image-id  ami-0ab4d1e9cf9a1215a  --instance-type  t2.micro    --count 1   --subnet-id subnet-691b5148  --security-group-ids sg-1c2b5804   --key-name  key_pair  --tag-specifications ResourceType=instance,Tags=[{Key=Sa,Value=33}]  ResourceType=volume,Tags=[{Key=V,Value=58}]\")\n",
    "    subprocess.getoutput(\"aws ec2 create-volume   --availability-zone us-east-1a   --volume-type gp2   --size 5  --tag-specifications ResourceType=volume,Tags=[{Key=V2,Value=369}]\")\n",
    "    p1 = subprocess.check_output(\"aws ec2 describe-instances --filters Name=tag:Sa,Values=33   --query Reservations[].Instances[].InstanceId\", shell=True)\n",
    "    p1 = p1.decode(\"utf-8\")\n",
    "    result1 = re.findall(r'\"([^\"]*)\"', p1)\n",
    "    p2 = subprocess.check_output(\"aws ec2 describe-volumes   --filters Name=tag:V2,Values=369 --query Volumes[].VolumeId[]\",shell=True)\n",
    "    p2 = p2.decode(\"utf-8\")\n",
    "    result2 = re.findall(r'\"([^\"]*)\"', p2)\n",
    "    \n",
    "    #print(result1[0], result2[0], type(result1), type(result2))\n",
    "    return result1, result2\n"
   ]
  },
  {
   "cell_type": "code",
   "execution_count": 7,
   "id": "9f78fdcd",
   "metadata": {},
   "outputs": [],
   "source": [
    "def MailFun(subject, body, to):\n",
    "    msg=EmailMessage()\n",
    "    msg.set_content(body)\n",
    "    msg['subject']=subject\n",
    "    msg['to']=to\n",
    "    \n",
    "    user=\"whatevk0@gmail.com\"\n",
    "    msg['from']=user\n",
    "    password=\"ftoqeqqbvflrlhay\"\n",
    "    \n",
    "    server=smtplib.SMTP(\"smtp.gmail.com\",587)\n",
    "    server.starttls()\n",
    "    server.login(user,password)\n",
    "    server.send_message(msg)\n",
    "    server.quit()\n",
    "    \n",
    "    "
   ]
  },
  {
   "cell_type": "code",
   "execution_count": 8,
   "id": "4ebe3f2d",
   "metadata": {},
   "outputs": [],
   "source": [
    "def sendWhatsapp(msg): \n",
    "    from twilio.rest import Client \n",
    " \n",
    "    account_sid = 'AC83ea7d0393c9a25d70cc5c5d99b520d3' \n",
    "    auth_token = '78bcc36a869619172b381aebe123e9bd' \n",
    "    client = Client(account_sid, auth_token) \n",
    " \n",
    "    message = client.messages.create( \n",
    "                              from_='whatsapp:+14155238886',  \n",
    "                              body=msg,      \n",
    "                              to='whatsapp:+919730541234' \n",
    "                          ) \n",
    " \n",
    "    print(message.sid)"
   ]
  },
  {
   "cell_type": "code",
   "execution_count": 9,
   "id": "315a7a38",
   "metadata": {},
   "outputs": [
    {
     "name": "stderr",
     "output_type": "stream",
     "text": [
      "<>:6: SyntaxWarning: \"is\" with a literal. Did you mean \"==\"?\n",
      "<>:6: SyntaxWarning: \"is\" with a literal. Did you mean \"==\"?\n",
      "<ipython-input-9-ab9e83a93789>:6: SyntaxWarning: \"is\" with a literal. Did you mean \"==\"?\n",
      "  if faces is ():\n"
     ]
    },
    {
     "name": "stdout",
     "output_type": "stream",
     "text": [
      "SM8e52d5d28201432e9fb6814a9829ec87\n"
     ]
    }
   ],
   "source": [
    "face_classifier = cv2.CascadeClassifier('haarcascade_frontalface_default.xml')\n",
    "z = False\n",
    "def face_detector(img, size=0.5):\n",
    "    gray = cv2.cvtColor(img, cv2.COLOR_BGR2GRAY)\n",
    "    faces = face_classifier.detectMultiScale(gray, 1.3, 5)\n",
    "    if faces is ():\n",
    "        return img, []\n",
    "    for(x, y, w, h) in faces:\n",
    "        cv2.rectangle(img, (x,y), (x+w, y+h), (0, 255, 255), 2)\n",
    "        roi = img[y:y+h, x:x+w]\n",
    "        roi = cv2.resize(roi, (200, 200))\n",
    "    return img, roi\n",
    "\n",
    "cap = cv2.VideoCapture(0)\n",
    "while True:\n",
    "    ret, frame = cap.read()\n",
    "    image, face = face_detector(frame)\n",
    "    try:\n",
    "        face = cv2.cvtColor(face, cv2.COLOR_BGR2GRAY)\n",
    "        results = model1.predict(face)\n",
    "        if results[1] < 500:\n",
    "            confidence = int(100*(1-(results[1])/400))\n",
    "            display_string = str(confidence) + '% Confident it is User'\n",
    "        cv2.putText(image, display_string, (100,200), cv2.FONT_HERSHEY_COMPLEX, 1, (255,120,150), 2)\n",
    "        \n",
    "        if confidence >90:\n",
    "            cv2.putText(image, \"Hey, Chinmay\", (250,450), cv2.FONT_HERSHEY_COMPLEX, 1, (0,255,0), 2)\n",
    "            cv2.imshow('Face Recogition', image)\n",
    "            if cv2.waitKey(1) == 13:\n",
    "                z = True\n",
    "                break\n",
    "            \n",
    "                       \n",
    "        else:\n",
    "            cv2.putText(image, \"Idk you\", (250, 450), cv2.FONT_HERSHEY_COMPLEX, 1, (0, 255, 0), 2)\n",
    "            cv2.imshow('Face Recogition', image)\n",
    "    except:\n",
    "        cv2.putText(image, \"No face found\", (220, 120), cv2.FONT_HERSHEY_COMPLEX, 1, (0, 0, 255), 2)\n",
    "        cv2.putText(image, \"Looking for a face\", (250, 450), cv2.FONT_HERSHEY_COMPLEX, 1, (0, 0, 255), 2)\n",
    "        cv2.imshow('Face Recogition', image)\n",
    "        pass\n",
    "    if cv2.waitKey(1) == 13:\n",
    "        break\n",
    "cap.release()\n",
    "cv2.destroyAllWindows()\n",
    "\n",
    "if z == True:\n",
    "    msg='Face detected'\n",
    "    sendWhatsapp(msg)\n",
    "    MailFun(\"Task6\", \"This is Face of Chinmay\", \"chinmaywaykole123@gmail.com\")"
   ]
  },
  {
   "cell_type": "code",
   "execution_count": 10,
   "id": "7e37ca57",
   "metadata": {},
   "outputs": [
    {
     "name": "stderr",
     "output_type": "stream",
     "text": [
      "<>:6: SyntaxWarning: \"is\" with a literal. Did you mean \"==\"?\n",
      "<>:6: SyntaxWarning: \"is\" with a literal. Did you mean \"==\"?\n",
      "<ipython-input-10-d6e632a19e8c>:6: SyntaxWarning: \"is\" with a literal. Did you mean \"==\"?\n",
      "  if faces is ():\n"
     ]
    }
   ],
   "source": [
    "face_classifier = cv2.CascadeClassifier('haarcascade_frontalface_default.xml')\n",
    "x = False\n",
    "def face_detector(img, size=0.5):\n",
    "    gray = cv2.cvtColor(img, cv2.COLOR_BGR2GRAY)\n",
    "    faces = face_classifier.detectMultiScale(gray, 1.3, 5)\n",
    "    if faces is ():\n",
    "        return img, []\n",
    "    for(x, y, w, h) in faces:\n",
    "        cv2.rectangle(img, (x,y), (x+w, y+h), (0, 255, 255), 2)\n",
    "        roi = img[y:y+h, x:x+w]\n",
    "        roi = cv2.resize(roi, (200, 200))\n",
    "    return img, roi\n",
    "\n",
    "cap = cv2.VideoCapture(0)\n",
    "while True:\n",
    "    ret, frame = cap.read()\n",
    "    image, face = face_detector(frame)\n",
    "    try:\n",
    "        face = cv2.cvtColor(face, cv2.COLOR_BGR2GRAY)\n",
    "        results = model2.predict(face)\n",
    "        if results[1] < 500:\n",
    "            confidence = int(100*(1-(results[1])/400))\n",
    "            display_string = str(confidence) + '% Confident it is User'\n",
    "        cv2.putText(image, display_string, (100,200), cv2.FONT_HERSHEY_COMPLEX, 1, (255,120,150), 2)\n",
    "        \n",
    "        if confidence >70:\n",
    "            cv2.putText(image, \"Hey, Nupur\", (250,450), cv2.FONT_HERSHEY_COMPLEX, 1, (0,255,0), 2)\n",
    "            cv2.imshow('Face Recogition', image)\n",
    "            #pwt.sendwhatmsg(\"+919922279015\", 'Hellw', 9, 51)\n",
    "            if cv2.waitKey(1) == 13:\n",
    "                #z = True\n",
    "                x = True\n",
    "                break\n",
    "            \n",
    "                       \n",
    "        else:\n",
    "            cv2.putText(image, \"Idk you\", (250, 450), cv2.FONT_HERSHEY_COMPLEX, 1, (0, 255, 0), 2)\n",
    "            cv2.imshow('Face Recogition', image)\n",
    "    except:\n",
    "        cv2.putText(image, \"No face found\", (220, 120), cv2.FONT_HERSHEY_COMPLEX, 1, (0, 0, 255), 2)\n",
    "        cv2.putText(image, \"Looking for a face\", (250, 450), cv2.FONT_HERSHEY_COMPLEX, 1, (0, 0, 255), 2)\n",
    "        cv2.imshow('Face Recogition', image)\n",
    "        pass\n",
    "    if cv2.waitKey(1) == 13:\n",
    "        break\n",
    "cap.release()\n",
    "cv2.destroyAllWindows()\n",
    "    \n",
    "if x == True:\n",
    "    r1, r2 = launch()"
   ]
  },
  {
   "cell_type": "code",
   "execution_count": 13,
   "id": "c6fcd977",
   "metadata": {},
   "outputs": [
    {
     "data": {
      "text/plain": [
       "\"\\nAn error occurred (IncorrectState) when calling the AttachVolume operation: Instance 'i-0b289833fe9bed5aa' is not 'running'.\""
      ]
     },
     "execution_count": 13,
     "metadata": {},
     "output_type": "execute_result"
    }
   ],
   "source": [
    "final = 'aws ec2 attach-volume --volume-id  '   + r2[0] + '  --instance-id  '   + r1[0] +  ' --device /dev/sdf'\n",
    "subprocess.getoutput(final)"
   ]
  },
  {
   "cell_type": "code",
   "execution_count": null,
   "id": "7c9a6812",
   "metadata": {},
   "outputs": [],
   "source": []
  }
 ],
 "metadata": {
  "kernelspec": {
   "display_name": "Python 3",
   "language": "python",
   "name": "python3"
  },
  "language_info": {
   "codemirror_mode": {
    "name": "ipython",
    "version": 3
   },
   "file_extension": ".py",
   "mimetype": "text/x-python",
   "name": "python",
   "nbconvert_exporter": "python",
   "pygments_lexer": "ipython3",
   "version": "3.8.8"
  }
 },
 "nbformat": 4,
 "nbformat_minor": 5
}
